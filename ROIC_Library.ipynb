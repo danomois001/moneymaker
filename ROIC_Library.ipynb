{
 "cells": [
  {
   "cell_type": "code",
   "execution_count": 33,
   "metadata": {},
   "outputs": [
    {
     "name": "stdout",
     "output_type": "stream",
     "text": [
      "0.25\n"
     ]
    }
   ],
   "source": [
    "import numpy as np\n",
    "import pandas as pd\n",
    "NetIncome = 50\n",
    "Debt = 100\n",
    "Equity = 100\n",
    "Capital = Debt + Equity\n",
    "ROIC = NetIncome/Capital\n",
    "print(ROIC)"
   ]
  },
  {
   "cell_type": "code",
   "execution_count": 35,
   "metadata": {},
   "outputs": [
    {
     "name": "stdout",
     "output_type": "stream",
     "text": [
      "    idemployees first_name last_name\n",
      "0             5          2         3\n",
      "1            12         11         6\n",
      "2            18         14        11\n",
      "3            23         20        22\n",
      "4            34         27        20\n",
      "5            37         17        32\n",
      "6            41         26        27\n",
      "7            53         49        46\n",
      "8           112         86        99\n",
      "9           127         98       119\n",
      "10          328        245       290\n",
      "11          330        310       402\n",
      "12          352        209       239\n",
      "13          386        285       331\n",
      "14         2225       1510      1464\n",
      "15         2303       1546      1518\n",
      "16         2741       2150      2191\n",
      "17         2867       2254      2289\n",
      "18         4425       3814      4215\n",
      "19         4705       4038      4444\n",
      "20         5295       3905      3946\n",
      "21         5555       4085      4138\n",
      "22       626247       body      suit\n",
      "23       666565      fatty   mclovin\n",
      "24       666665       fats  mcshitty\n",
      "25       666666        fat       eva\n"
     ]
    }
   ],
   "source": [
    "import sys\n",
    "sys.path.insert(0,\"/home/danomois/snap/jupyter/common/lib/python3.7/site-packages/PyMySQL-master\")\n",
    "import pymysql\n",
    "\n",
    "conn = pymysql.connect(host='localhost',\n",
    "                             user='root',\n",
    "                             password='colgate13',\n",
    "                             db='player')\n",
    "\n",
    "df = pd.read_sql_query(\"SELECT * FROM employees\",conn)\n",
    "print(df)\n",
    "# with connection.cursor() as cursor:\n",
    "#         # Create a new record\n",
    "#         sql = \"select * from BLS\"\n",
    "#         cursor.execute(sql)\n",
    "#         sqlsample.append(cursor.fetchall())\n",
    "#         print(sqlsample)"
   ]
  }
 ],
 "metadata": {
  "kernelspec": {
   "display_name": "Python 3",
   "language": "python",
   "name": "python3"
  }
 },
 "nbformat": 4,
 "nbformat_minor": 2
}
